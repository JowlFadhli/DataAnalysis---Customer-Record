{
 "cells": [
  {
   "cell_type": "markdown",
   "id": "3aca27a5",
   "metadata": {},
   "source": [
    "# Challenge 5  - Data Cleaning, Transformations and ETL pipeline architecture"
   ]
  },
  {
   "cell_type": "markdown",
   "id": "eb843d83",
   "metadata": {},
   "source": [
    "##### The first crucial step of providing accurate and reliable data input for further processing is data cleaning (Pre-processing). The below code shows step-by-step flow from analyzing the data generally till specifying each column for thorough cleaning. "
   ]
  },
  {
   "cell_type": "markdown",
   "id": "05a54d89",
   "metadata": {},
   "source": [
    "### Step 1 - Importing necessary library"
   ]
  },
  {
   "cell_type": "code",
   "execution_count": 20,
   "id": "9c449cd5",
   "metadata": {},
   "outputs": [],
   "source": [
    "import pandas as pd \n",
    "import numpy as np\n",
    "import missingno as msno\n",
    "import re"
   ]
  },
  {
   "cell_type": "markdown",
   "id": "ada7f480",
   "metadata": {},
   "source": [
    "### Step 2 - Data reading for dataframe conversion"
   ]
  },
  {
   "cell_type": "code",
   "execution_count": 21,
   "id": "cc86b993",
   "metadata": {},
   "outputs": [],
   "source": [
    "loyalty = \"Challenge_5\\test_dataset\\loyalty.csv\"\n",
    "loyalty_df = pd.read_csv(loyalty,index_col=False,keep_default_na=True)\n",
    "transaction = 'Challenge_5\\test_dataset\\transactions.csv'\n",
    "transaction_df = pd.read_csv(transaction,index_col=False,keep_default_na=True)"
   ]
  },
  {
   "cell_type": "markdown",
   "id": "66b13ec9",
   "metadata": {},
   "source": [
    "### Step 3 - Displaying first 4 data of each dataframe"
   ]
  },
  {
   "cell_type": "markdown",
   "id": "8827b094",
   "metadata": {},
   "source": [
    "##### From rough observation, it can observed that in loyalty_df dataframe created from the loyalty dataset shows incosistent and dirty data especially in the name, city, phone-number and email compared to transaction dataset."
   ]
  },
  {
   "cell_type": "code",
   "execution_count": 22,
   "id": "f286e329",
   "metadata": {},
   "outputs": [
    {
     "data": {
      "text/html": [
       "<div>\n",
       "<style scoped>\n",
       "    .dataframe tbody tr th:only-of-type {\n",
       "        vertical-align: middle;\n",
       "    }\n",
       "\n",
       "    .dataframe tbody tr th {\n",
       "        vertical-align: top;\n",
       "    }\n",
       "\n",
       "    .dataframe thead th {\n",
       "        text-align: right;\n",
       "    }\n",
       "</style>\n",
       "<table border=\"1\" class=\"dataframe\">\n",
       "  <thead>\n",
       "    <tr style=\"text-align: right;\">\n",
       "      <th></th>\n",
       "      <th>name</th>\n",
       "      <th>city</th>\n",
       "      <th>phone-number</th>\n",
       "      <th>license-plate</th>\n",
       "      <th>email</th>\n",
       "      <th>id</th>\n",
       "    </tr>\n",
       "  </thead>\n",
       "  <tbody>\n",
       "    <tr>\n",
       "      <th>0</th>\n",
       "      <td>Gary Cannon</td>\n",
       "      <td>Pric#%edale</td>\n",
       "      <td>339-486-5500</td>\n",
       "      <td>BOB-0788</td>\n",
       "      <td>Gar#%y_C@verizon.com</td>\n",
       "      <td>d37a5246-6ca3-4ade-9472-d7671becc853</td>\n",
       "    </tr>\n",
       "    <tr>\n",
       "      <th>1</th>\n",
       "      <td>Brian Montes</td>\n",
       "      <td>Rosebud</td>\n",
       "      <td>336-853-9842</td>\n",
       "      <td>AXI-4190</td>\n",
       "      <td>Brian.M@outlook.com</td>\n",
       "      <td>65ad4511-b6fd-4cf7-8520-7f3d68776e5e</td>\n",
       "    </tr>\n",
       "    <tr>\n",
       "      <th>2</th>\n",
       "      <td>Christopher[ Todd Jr.</td>\n",
       "      <td>Llano.</td>\n",
       "      <td>1 59#%-161-0094</td>\n",
       "      <td>LRM-754</td>\n",
       "      <td>Christopher_Jr.@mail.com</td>\n",
       "      <td>45c97ee7-a932-459e-b0de-dd8160b3efe3</td>\n",
       "    </tr>\n",
       "    <tr>\n",
       "      <th>3</th>\n",
       "      <td>Lynn Blake</td>\n",
       "      <td>Greenbank</td>\n",
       "      <td>174-4]98-313]0</td>\n",
       "      <td>MRW -4495</td>\n",
       "      <td>Blake_Lynn45@zoho.    com</td>\n",
       "      <td>15abb55d-ec36-4b88-bba2-a58af8accd81</td>\n",
       "    </tr>\n",
       "    <tr>\n",
       "      <th>4</th>\n",
       "      <td>Jennifer Allen</td>\n",
       "      <td>S.N.P.J.</td>\n",
       "      <td>/240-375121-3895</td>\n",
       "      <td>HBI-2202</td>\n",
       "      <td>Je nnifer.Allen@yahoo.com</td>\n",
       "      <td>4b166f8d-ecab-43c5-ae0f-a09beb3ea4c0</td>\n",
       "    </tr>\n",
       "  </tbody>\n",
       "</table>\n",
       "</div>"
      ],
      "text/plain": [
       "                    name         city      phone-number license-plate  \\\n",
       "0            Gary Cannon  Pric#%edale      339-486-5500      BOB-0788   \n",
       "1           Brian Montes      Rosebud      336-853-9842      AXI-4190   \n",
       "2  Christopher[ Todd Jr.       Llano.   1 59#%-161-0094       LRM-754   \n",
       "3             Lynn Blake    Greenbank    174-4]98-313]0     MRW -4495   \n",
       "4         Jennifer Allen     S.N.P.J.  /240-375121-3895      HBI-2202   \n",
       "\n",
       "                       email                                    id  \n",
       "0       Gar#%y_C@verizon.com  d37a5246-6ca3-4ade-9472-d7671becc853  \n",
       "1        Brian.M@outlook.com  65ad4511-b6fd-4cf7-8520-7f3d68776e5e  \n",
       "2   Christopher_Jr.@mail.com  45c97ee7-a932-459e-b0de-dd8160b3efe3  \n",
       "3  Blake_Lynn45@zoho.    com  15abb55d-ec36-4b88-bba2-a58af8accd81  \n",
       "4  Je nnifer.Allen@yahoo.com  4b166f8d-ecab-43c5-ae0f-a09beb3ea4c0  "
      ]
     },
     "execution_count": 22,
     "metadata": {},
     "output_type": "execute_result"
    }
   ],
   "source": [
    "loyalty_df.head()"
   ]
  },
  {
   "cell_type": "code",
   "execution_count": 23,
   "id": "5f6eaec4",
   "metadata": {},
   "outputs": [
    {
     "data": {
      "text/html": [
       "<div>\n",
       "<style scoped>\n",
       "    .dataframe tbody tr th:only-of-type {\n",
       "        vertical-align: middle;\n",
       "    }\n",
       "\n",
       "    .dataframe tbody tr th {\n",
       "        vertical-align: top;\n",
       "    }\n",
       "\n",
       "    .dataframe thead th {\n",
       "        text-align: right;\n",
       "    }\n",
       "</style>\n",
       "<table border=\"1\" class=\"dataframe\">\n",
       "  <thead>\n",
       "    <tr style=\"text-align: right;\">\n",
       "      <th></th>\n",
       "      <th>name</th>\n",
       "      <th>city</th>\n",
       "      <th>phone-number</th>\n",
       "      <th>email</th>\n",
       "      <th>id</th>\n",
       "      <th>TransactionID</th>\n",
       "      <th>Amount</th>\n",
       "    </tr>\n",
       "  </thead>\n",
       "  <tbody>\n",
       "    <tr>\n",
       "      <th>0</th>\n",
       "      <td>Gary Cannon</td>\n",
       "      <td>Pricedale</td>\n",
       "      <td>339-486-5500</td>\n",
       "      <td>Gary_C@verizon.com</td>\n",
       "      <td>d37a5246-6ca3-4ade-9472-d7671becc853</td>\n",
       "      <td>0</td>\n",
       "      <td>1372</td>\n",
       "    </tr>\n",
       "    <tr>\n",
       "      <th>1</th>\n",
       "      <td>Brian Montes</td>\n",
       "      <td>Rosebud</td>\n",
       "      <td>336-853-9842</td>\n",
       "      <td>Brian.M@outlook.com</td>\n",
       "      <td>65ad4511-b6fd-4cf7-8520-7f3d68776e5e</td>\n",
       "      <td>1</td>\n",
       "      <td>1779</td>\n",
       "    </tr>\n",
       "    <tr>\n",
       "      <th>2</th>\n",
       "      <td>Christopher Todd Jr.</td>\n",
       "      <td>Llano</td>\n",
       "      <td>159-161-0094</td>\n",
       "      <td>Christopher_Jr.@mail.com</td>\n",
       "      <td>45c97ee7-a932-459e-b0de-dd8160b3efe3</td>\n",
       "      <td>2</td>\n",
       "      <td>11</td>\n",
       "    </tr>\n",
       "    <tr>\n",
       "      <th>3</th>\n",
       "      <td>Lynn Blake</td>\n",
       "      <td>Greenbank</td>\n",
       "      <td>174-498-3130</td>\n",
       "      <td>Blake_Lynn45@zoho.com</td>\n",
       "      <td>15abb55d-ec36-4b88-bba2-a58af8accd81</td>\n",
       "      <td>3</td>\n",
       "      <td>101</td>\n",
       "    </tr>\n",
       "    <tr>\n",
       "      <th>4</th>\n",
       "      <td>Jennifer Allen</td>\n",
       "      <td>S.N.P.J.</td>\n",
       "      <td>240-375-3895</td>\n",
       "      <td>Jennifer.Allen@yahoo.com</td>\n",
       "      <td>4b166f8d-ecab-43c5-ae0f-a09beb3ea4c0</td>\n",
       "      <td>4</td>\n",
       "      <td>1318</td>\n",
       "    </tr>\n",
       "  </tbody>\n",
       "</table>\n",
       "</div>"
      ],
      "text/plain": [
       "                   name       city  phone-number                     email  \\\n",
       "0           Gary Cannon  Pricedale  339-486-5500        Gary_C@verizon.com   \n",
       "1          Brian Montes    Rosebud  336-853-9842       Brian.M@outlook.com   \n",
       "2  Christopher Todd Jr.      Llano  159-161-0094  Christopher_Jr.@mail.com   \n",
       "3            Lynn Blake  Greenbank  174-498-3130     Blake_Lynn45@zoho.com   \n",
       "4        Jennifer Allen   S.N.P.J.  240-375-3895  Jennifer.Allen@yahoo.com   \n",
       "\n",
       "                                     id  TransactionID  Amount  \n",
       "0  d37a5246-6ca3-4ade-9472-d7671becc853              0    1372  \n",
       "1  65ad4511-b6fd-4cf7-8520-7f3d68776e5e              1    1779  \n",
       "2  45c97ee7-a932-459e-b0de-dd8160b3efe3              2      11  \n",
       "3  15abb55d-ec36-4b88-bba2-a58af8accd81              3     101  \n",
       "4  4b166f8d-ecab-43c5-ae0f-a09beb3ea4c0              4    1318  "
      ]
     },
     "execution_count": 23,
     "metadata": {},
     "output_type": "execute_result"
    }
   ],
   "source": [
    "transaction_df.head()"
   ]
  },
  {
   "cell_type": "markdown",
   "id": "65a90e72",
   "metadata": {},
   "source": [
    "### Step 4 - Analyzing and Finding similarity and differences between each dataset.  "
   ]
  },
  {
   "cell_type": "markdown",
   "id": "9bc6ae3f",
   "metadata": {},
   "source": [
    "#### By finding the similar column in each dataset helps in joining the two dataset together. It can be observed that column Id which is present in both dataset contained similar data hence can be used as common column to be merged on."
   ]
  },
  {
   "cell_type": "code",
   "execution_count": 24,
   "id": "2bcd8b1e",
   "metadata": {},
   "outputs": [
    {
     "name": "stdout",
     "output_type": "stream",
     "text": [
      "Column name, city, phone-number, email, id can be found in both dataset\n",
      "Column license-plate, Amount, TransactionID are/is the different column\n",
      "Values in column id for both dataset are the same\n"
     ]
    }
   ],
   "source": [
    "loyalty_col = loyalty_df.columns\n",
    "transaction_col = transaction_df.columns\n",
    "same_column = loyalty_col.intersection(transaction_col)\n",
    "diff_column = np.concatenate((loyalty_col.difference(transaction_col), transaction_col.difference(loyalty_col)), axis=0)\n",
    "print('Column ' + ', '.join(list(same_column)) + ' can be found in both dataset')\n",
    "print('Column ' + ', '.join(list(diff_column)) + ' are/is the different column')\n",
    "\n",
    "for i in same_column:\n",
    "    if transaction_df[i].equals(loyalty_df[i]) is True:\n",
    "        print('Values in column ' + i + ' for both dataset are the same')"
   ]
  },
  {
   "cell_type": "markdown",
   "id": "24c94fc2",
   "metadata": {},
   "source": [
    "### Step 5 - Filtering each dataset for any dirty values and keeping appropriate column for merging plus observing null values for each column"
   ]
  },
  {
   "cell_type": "code",
   "execution_count": 25,
   "id": "1db81f70",
   "metadata": {},
   "outputs": [
    {
     "name": "stdout",
     "output_type": "stream",
     "text": [
      "The dataset is not clean\n"
     ]
    },
    {
     "data": {
      "text/plain": [
       "<AxesSubplot:>"
      ]
     },
     "execution_count": 25,
     "metadata": {},
     "output_type": "execute_result"
    },
    {
     "data": {
      "image/png": "[encoded data removed]",
      "text/plain": [
       "<Figure size 1800x720 with 3 Axes>"
      ]
     },
     "metadata": {
      "needs_background": "light"
     },
     "output_type": "display_data"
    }
   ],
   "source": [
    "if len(loyalty_df[loyalty_df['email'].str.contains(\".com$|.net$\", na=False)]) == 10000:\n",
    "    if len(loyalty_df[loyalty_df['name'].str.contains('.*[0-9].*', na=False)]) == 0:\n",
    "        if len(loyalty_df[loyalty_df['phone-number'].str.contains('[@_!#$%^&*()<>?/\\|}{~:]', na=False)]) == 0:\n",
    "            if len(loyalty_df[loyalty_df['city'].str.contains('.*[0-9].*', na=False)]) == 0:\n",
    "                print('The dataset is clean')\n",
    "else:\n",
    "    print('The dataset is not clean')\n",
    "    loyalty_df = loyalty_df.drop(['name', 'city', 'phone-number', 'email'], axis = 1)\n",
    "    \n",
    "msno.bar(loyalty_df)"
   ]
  },
  {
   "cell_type": "code",
   "execution_count": 26,
   "id": "5b239250",
   "metadata": {},
   "outputs": [
    {
     "name": "stdout",
     "output_type": "stream",
     "text": [
      "The dataset is clean\n"
     ]
    },
    {
     "data": {
      "text/plain": [
       "<AxesSubplot:>"
      ]
     },
     "execution_count": 26,
     "metadata": {},
     "output_type": "execute_result"
    },
    {
     "data": {
      "image/png": "[encoded data removed]",
      "text/plain": [
       "<Figure size 1800x720 with 3 Axes>"
      ]
     },
     "metadata": {
      "needs_background": "light"
     },
     "output_type": "display_data"
    }
   ],
   "source": [
    "if len(transaction_df[transaction_df['email'].str.contains(\".com$|.net$\", na=False)]) == 10000:\n",
    "    if len(transaction_df[transaction_df['name'].str.contains('.*[0-9].*', na=False)]) == 0:\n",
    "        if len(transaction_df[transaction_df['phone-number'].str.contains('[@_!#$%^&*()<>?/\\|}{~:]', na=False)]) == 0:\n",
    "            if len(transaction_df[transaction_df['city'].str.contains('.*[0-9].*', na=False)]) == 0:\n",
    "                print('The dataset is clean')\n",
    "else:\n",
    "    print('The dataset is not clean')\n",
    "    transaction_df = transaction_df.drop(['name', 'city', 'phone-number', 'email'], axis = 1)\n",
    "msno.bar(transaction_df)"
   ]
  },
  {
   "cell_type": "markdown",
   "id": "66d8ab3c",
   "metadata": {},
   "source": [
    "### Step 6 - Merging two dataset"
   ]
  },
  {
   "cell_type": "code",
   "execution_count": 27,
   "id": "1bf98c27",
   "metadata": {},
   "outputs": [],
   "source": [
    "combine_df = pd.merge(transaction_df, loyalty_df, on=\"id\")\n",
    "# combine_df"
   ]
  },
  {
   "cell_type": "markdown",
   "id": "26efb03a",
   "metadata": {},
   "source": [
    "### Bonus - Maintained dirty data"
   ]
  },
  {
   "cell_type": "markdown",
   "id": "cb93647b",
   "metadata": {},
   "source": [
    "##### In the license-plate column, there are several data which have inconsistent plate number with special characters. Nonetheless, the data is kept depending on the use cases."
   ]
  },
  {
   "cell_type": "code",
   "execution_count": 28,
   "id": "4c17c35a",
   "metadata": {},
   "outputs": [
    {
     "name": "stdout",
     "output_type": "stream",
     "text": [
      "                     name             city  phone-number  \\\n",
      "6        Michelle Mullins  Preston Heights  259-622-8878   \n",
      "24         Chad Alexander          Fowlkes  798-236-8560   \n",
      "40    Jacqueline Mitchell            Corry  529-098-1056   \n",
      "46         Richard Garcia             Mott  380-438-6288   \n",
      "50           Sheila Jones          Parnell  674-201-5332   \n",
      "...                   ...              ...           ...   \n",
      "9958   Catherine Gonzalez          Dillard  942-990-6651   \n",
      "9967          James Henry           Gaskin  618-975-5096   \n",
      "9970           Gina Scott      North Eaton  855-355-1865   \n",
      "9973          Kevin Smith      South Range  976-029-6246   \n",
      "9985        Ross Franklin      South Salem  812-786-5255   \n",
      "\n",
      "                                 email                                    id  \\\n",
      "6      Mullins_Michelle@protonmail.com  d556f557-06ea-4c6f-a712-4212eec6fca4   \n",
      "24                Chad.A98@hotmail.com  b57f9a65-893e-4a34-865c-c48f3d57d370   \n",
      "40    Mitchell.Jacqueline47@yandex.com  ee138a6c-5eef-48cd-b540-9292985deaf9   \n",
      "46               RGarcia14@hotmail.com  ab214e6d-8412-43fd-a0e6-f4f9d1a8a3c7   \n",
      "50                Sheila.J@verizon.com  b76f2594-e2c2-41b1-b149-3fe9ea553cb7   \n",
      "...                                ...                                   ...   \n",
      "9958      Gonzalez_Catherine70@att.com  3809a96c-5b48-44ea-b2ae-b2f21d32a0c1   \n",
      "9967             James.H22@outlook.com  2772dd33-5890-47f7-a6e4-1ea306a6c95d   \n",
      "9970                Gina.S@xfinity.com  7c7dad34-ee55-4296-826d-21fad291908e   \n",
      "9973             KevinSmith73@zoho.com  501008b8-1fb2-499f-acd3-39b332f4c255   \n",
      "9985           Ross.Franklin42@att.com  a394c765-1505-4f8a-89a1-8083e029578b   \n",
      "\n",
      "      TransactionID  Amount license-plate  \n",
      "6                 6    1039    VYF-76#%68  \n",
      "24               24    1723      4/HBN145  \n",
      "40               40    1448  2/F    HA175  \n",
      "46               46    1430     5#%PMO395  \n",
      "50               50    1603      7TOB9/64  \n",
      "...             ...     ...           ...  \n",
      "9958           9958    1255      LP/X-917  \n",
      "9967           9967     608     YMD -14/5  \n",
      "9970           9970     792      /1IKT391  \n",
      "9973           9973     654      7MGY/867  \n",
      "9985           9985     665      IKI-39/0  \n",
      "\n",
      "[1106 rows x 8 columns]\n"
     ]
    }
   ],
   "source": [
    "print(combine_df[combine_df['license-plate'].str.contains('[@_!#$%^&*()<>?/\\|}{~:]', na=False)])"
   ]
  },
  {
   "cell_type": "code",
   "execution_count": 29,
   "id": "46923808",
   "metadata": {},
   "outputs": [],
   "source": [
    "# combine_df.to_excel('loyalty_transaction.xlsx',sheet_name='Unit 1',startrow=0 , startcol=0)"
   ]
  },
  {
   "cell_type": "code",
   "execution_count": null,
   "id": "8cb05347",
   "metadata": {},
   "outputs": [],
   "source": []
  }
 ],
 "metadata": {
  "kernelspec": {
   "display_name": "Python 3.8.8 ('base')",
   "language": "python",
   "name": "python3"
  },
  "language_info": {
   "codemirror_mode": {
    "name": "ipython",
    "version": 3
   },
   "file_extension": ".py",
   "mimetype": "text/x-python",
   "name": "python",
   "nbconvert_exporter": "python",
   "pygments_lexer": "ipython3",
   "version": "3.8.8"
  },
  "vscode": {
   "interpreter": {
    "hash": "8ed046c47e81a6eb878bee5cad5d158fd90b207aa82383d2c9ffa32b9e551626"
   }
  }
 },
 "nbformat": 4,
 "nbformat_minor": 5
}
